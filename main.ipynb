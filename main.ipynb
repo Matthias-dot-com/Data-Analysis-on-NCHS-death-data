{
 "cells": [
  {
   "cell_type": "code",
   "execution_count": 23,
   "metadata": {},
   "outputs": [],
   "source": [
    "import pandas as pd\n",
    "import matplotlib.pyplot as plt"
   ]
  },
  {
   "cell_type": "markdown",
   "metadata": {},
   "source": [
    "We will try to find answers for the following questions:\n",
    "\n",
    "\n",
    "What are the causes of death in this dataset?\n",
    "\n",
    "What is the total number of deaths in the United State from 1999 to 2015?\n",
    "\n",
    "What is the trend of number of deaths per year?\n",
    "\n",
    "Which are the 10 states that have the highest number of death in all years?\n",
    "\n",
    "What are the top causes of deaths in the United State?"
   ]
  },
  {
   "cell_type": "code",
   "execution_count": 24,
   "metadata": {},
   "outputs": [],
   "source": [
    "import pandas as pd\n",
    "f_location = 'NCHS.csv'\n",
    "\n",
    "data = pd.read_csv(f_location)\n",
    "df = pd.DataFrame(data)"
   ]
  },
  {
   "cell_type": "code",
   "execution_count": 25,
   "metadata": {},
   "outputs": [
    {
     "data": {
      "text/html": [
       "<div>\n",
       "<style scoped>\n",
       "    .dataframe tbody tr th:only-of-type {\n",
       "        vertical-align: middle;\n",
       "    }\n",
       "\n",
       "    .dataframe tbody tr th {\n",
       "        vertical-align: top;\n",
       "    }\n",
       "\n",
       "    .dataframe thead th {\n",
       "        text-align: right;\n",
       "    }\n",
       "</style>\n",
       "<table border=\"1\" class=\"dataframe\">\n",
       "  <thead>\n",
       "    <tr style=\"text-align: right;\">\n",
       "      <th></th>\n",
       "      <th>Year</th>\n",
       "      <th>113 Cause Name</th>\n",
       "      <th>Cause Name</th>\n",
       "      <th>State</th>\n",
       "      <th>Deaths</th>\n",
       "      <th>Age-adjusted Death Rate</th>\n",
       "    </tr>\n",
       "  </thead>\n",
       "  <tbody>\n",
       "    <tr>\n",
       "      <th>0</th>\n",
       "      <td>2017</td>\n",
       "      <td>Accidents (unintentional injuries) (V01-X59,Y8...</td>\n",
       "      <td>Unintentional injuries</td>\n",
       "      <td>United States</td>\n",
       "      <td>169936</td>\n",
       "      <td>49.4</td>\n",
       "    </tr>\n",
       "    <tr>\n",
       "      <th>1</th>\n",
       "      <td>2017</td>\n",
       "      <td>Accidents (unintentional injuries) (V01-X59,Y8...</td>\n",
       "      <td>Unintentional injuries</td>\n",
       "      <td>Alabama</td>\n",
       "      <td>2703</td>\n",
       "      <td>53.8</td>\n",
       "    </tr>\n",
       "    <tr>\n",
       "      <th>2</th>\n",
       "      <td>2017</td>\n",
       "      <td>Accidents (unintentional injuries) (V01-X59,Y8...</td>\n",
       "      <td>Unintentional injuries</td>\n",
       "      <td>Alaska</td>\n",
       "      <td>436</td>\n",
       "      <td>63.7</td>\n",
       "    </tr>\n",
       "    <tr>\n",
       "      <th>3</th>\n",
       "      <td>2017</td>\n",
       "      <td>Accidents (unintentional injuries) (V01-X59,Y8...</td>\n",
       "      <td>Unintentional injuries</td>\n",
       "      <td>Arizona</td>\n",
       "      <td>4184</td>\n",
       "      <td>56.2</td>\n",
       "    </tr>\n",
       "    <tr>\n",
       "      <th>4</th>\n",
       "      <td>2017</td>\n",
       "      <td>Accidents (unintentional injuries) (V01-X59,Y8...</td>\n",
       "      <td>Unintentional injuries</td>\n",
       "      <td>Arkansas</td>\n",
       "      <td>1625</td>\n",
       "      <td>51.8</td>\n",
       "    </tr>\n",
       "  </tbody>\n",
       "</table>\n",
       "</div>"
      ],
      "text/plain": [
       "   Year                                     113 Cause Name  \\\n",
       "0  2017  Accidents (unintentional injuries) (V01-X59,Y8...   \n",
       "1  2017  Accidents (unintentional injuries) (V01-X59,Y8...   \n",
       "2  2017  Accidents (unintentional injuries) (V01-X59,Y8...   \n",
       "3  2017  Accidents (unintentional injuries) (V01-X59,Y8...   \n",
       "4  2017  Accidents (unintentional injuries) (V01-X59,Y8...   \n",
       "\n",
       "               Cause Name          State  Deaths  Age-adjusted Death Rate  \n",
       "0  Unintentional injuries  United States  169936                     49.4  \n",
       "1  Unintentional injuries        Alabama    2703                     53.8  \n",
       "2  Unintentional injuries         Alaska     436                     63.7  \n",
       "3  Unintentional injuries        Arizona    4184                     56.2  \n",
       "4  Unintentional injuries       Arkansas    1625                     51.8  "
      ]
     },
     "execution_count": 25,
     "metadata": {},
     "output_type": "execute_result"
    }
   ],
   "source": [
    "df.head()"
   ]
  },
  {
   "cell_type": "code",
   "execution_count": 26,
   "metadata": {},
   "outputs": [
    {
     "name": "stdout",
     "output_type": "stream",
     "text": [
      "<class 'pandas.core.frame.DataFrame'>\n",
      "RangeIndex: 10868 entries, 0 to 10867\n",
      "Data columns (total 6 columns):\n",
      " #   Column                   Non-Null Count  Dtype  \n",
      "---  ------                   --------------  -----  \n",
      " 0   Year                     10868 non-null  int64  \n",
      " 1   113 Cause Name           10868 non-null  object \n",
      " 2   Cause Name               10868 non-null  object \n",
      " 3   State                    10868 non-null  object \n",
      " 4   Deaths                   10868 non-null  int64  \n",
      " 5   Age-adjusted Death Rate  10868 non-null  float64\n",
      "dtypes: float64(1), int64(2), object(3)\n",
      "memory usage: 509.6+ KB\n"
     ]
    }
   ],
   "source": [
    "df.info()"
   ]
  },
  {
   "cell_type": "code",
   "execution_count": 27,
   "metadata": {},
   "outputs": [
    {
     "data": {
      "text/plain": [
       "['Year',\n",
       " '113 Cause Name',\n",
       " 'Cause Name',\n",
       " 'State',\n",
       " 'Deaths',\n",
       " 'Age-adjusted Death Rate']"
      ]
     },
     "execution_count": 27,
     "metadata": {},
     "output_type": "execute_result"
    }
   ],
   "source": [
    "df.columns.tolist()"
   ]
  },
  {
   "cell_type": "code",
   "execution_count": 28,
   "metadata": {},
   "outputs": [
    {
     "data": {
      "text/plain": [
       "Year                       0\n",
       "113 Cause Name             0\n",
       "Cause Name                 0\n",
       "State                      0\n",
       "Deaths                     0\n",
       "Age-adjusted Death Rate    0\n",
       "dtype: int64"
      ]
     },
     "execution_count": 28,
     "metadata": {},
     "output_type": "execute_result"
    }
   ],
   "source": [
    "df.isna().sum()"
   ]
  },
  {
   "cell_type": "markdown",
   "metadata": {},
   "source": [
    "What are the causes of death in this dataset?"
   ]
  },
  {
   "cell_type": "code",
   "execution_count": 29,
   "metadata": {},
   "outputs": [
    {
     "data": {
      "text/plain": [
       "array(['Unintentional injuries', 'All causes', \"Alzheimer's disease\",\n",
       "       'Stroke', 'CLRD', 'Diabetes', 'Heart disease',\n",
       "       'Influenza and pneumonia', 'Suicide', 'Cancer', 'Kidney disease'],\n",
       "      dtype=object)"
      ]
     },
     "execution_count": 29,
     "metadata": {},
     "output_type": "execute_result"
    }
   ],
   "source": [
    "causes = df[\"Cause Name\"].unique()\n",
    "causes"
   ]
  },
  {
   "cell_type": "code",
   "execution_count": 30,
   "metadata": {},
   "outputs": [],
   "source": [
    "df = df[df[\"Cause Name\"] != \"All causes\"]\n"
   ]
  },
  {
   "cell_type": "code",
   "execution_count": 31,
   "metadata": {},
   "outputs": [
    {
     "data": {
      "text/plain": [
       "10"
      ]
     },
     "execution_count": 31,
     "metadata": {},
     "output_type": "execute_result"
    }
   ],
   "source": [
    "causes = df[\"Cause Name\"].unique()\n",
    "len(causes)"
   ]
  },
  {
   "cell_type": "code",
   "execution_count": 32,
   "metadata": {},
   "outputs": [
    {
     "data": {
      "text/plain": [
       "array(['United States', 'Alabama', 'Alaska', 'Arizona', 'Arkansas',\n",
       "       'California', 'Colorado', 'Connecticut', 'Delaware',\n",
       "       'District of Columbia', 'Florida', 'Georgia', 'Hawaii', 'Idaho',\n",
       "       'Illinois', 'Indiana', 'Iowa', 'Kansas', 'Kentucky', 'Louisiana',\n",
       "       'Maine', 'Maryland', 'Massachusetts', 'Michigan', 'Minnesota',\n",
       "       'Mississippi', 'Missouri', 'Montana', 'Nebraska', 'Nevada',\n",
       "       'New Hampshire', 'New Jersey', 'New Mexico', 'New York',\n",
       "       'North Carolina', 'North Dakota', 'Ohio', 'Oklahoma', 'Oregon',\n",
       "       'Pennsylvania', 'Rhode Island', 'South Carolina', 'South Dakota',\n",
       "       'Tennessee', 'Texas', 'Utah', 'Vermont', 'Virginia', 'Washington',\n",
       "       'West Virginia', 'Wisconsin', 'Wyoming'], dtype=object)"
      ]
     },
     "execution_count": 32,
     "metadata": {},
     "output_type": "execute_result"
    }
   ],
   "source": [
    "df[\"State\"].unique()"
   ]
  },
  {
   "cell_type": "code",
   "execution_count": 33,
   "metadata": {},
   "outputs": [],
   "source": [
    "df = df[df[\"State\"] != \"United States\"]"
   ]
  },
  {
   "cell_type": "code",
   "execution_count": 35,
   "metadata": {},
   "outputs": [
    {
     "data": {
      "text/plain": [
       "51"
      ]
     },
     "execution_count": 35,
     "metadata": {},
     "output_type": "execute_result"
    }
   ],
   "source": [
    "states = df.State.unique()\n",
    "len(states)"
   ]
  },
  {
   "cell_type": "markdown",
   "metadata": {},
   "source": [
    "What is the total number of deaths in the United State from 1999 to 2017?"
   ]
  },
  {
   "cell_type": "code",
   "execution_count": 37,
   "metadata": {},
   "outputs": [
    {
     "data": {
      "text/plain": [
       "36280583"
      ]
     },
     "execution_count": 37,
     "metadata": {},
     "output_type": "execute_result"
    }
   ],
   "source": [
    "df[\"Deaths\"].sum()"
   ]
  },
  {
   "cell_type": "markdown",
   "metadata": {},
   "source": [
    "What is the trend of number of deaths per year?\n"
   ]
  },
  {
   "cell_type": "code",
   "execution_count": 58,
   "metadata": {},
   "outputs": [
    {
     "data": {
      "text/html": [
       "<div>\n",
       "<style scoped>\n",
       "    .dataframe tbody tr th:only-of-type {\n",
       "        vertical-align: middle;\n",
       "    }\n",
       "\n",
       "    .dataframe tbody tr th {\n",
       "        vertical-align: top;\n",
       "    }\n",
       "\n",
       "    .dataframe thead th {\n",
       "        text-align: right;\n",
       "    }\n",
       "</style>\n",
       "<table border=\"1\" class=\"dataframe\">\n",
       "  <thead>\n",
       "    <tr style=\"text-align: right;\">\n",
       "      <th></th>\n",
       "      <th>Year</th>\n",
       "      <th>Deaths</th>\n",
       "      <th>Age-adjusted Death Rate</th>\n",
       "    </tr>\n",
       "  </thead>\n",
       "  <tbody>\n",
       "    <tr>\n",
       "      <th>0</th>\n",
       "      <td>1999</td>\n",
       "      <td>1905826</td>\n",
       "      <td>35592.3</td>\n",
       "    </tr>\n",
       "    <tr>\n",
       "      <th>1</th>\n",
       "      <td>2000</td>\n",
       "      <td>1902194</td>\n",
       "      <td>35161.3</td>\n",
       "    </tr>\n",
       "    <tr>\n",
       "      <th>2</th>\n",
       "      <td>2001</td>\n",
       "      <td>1899358</td>\n",
       "      <td>34580.3</td>\n",
       "    </tr>\n",
       "    <tr>\n",
       "      <th>3</th>\n",
       "      <td>2002</td>\n",
       "      <td>1918873</td>\n",
       "      <td>34429.2</td>\n",
       "    </tr>\n",
       "    <tr>\n",
       "      <th>4</th>\n",
       "      <td>2003</td>\n",
       "      <td>1912115</td>\n",
       "      <td>33846.1</td>\n",
       "    </tr>\n",
       "  </tbody>\n",
       "</table>\n",
       "</div>"
      ],
      "text/plain": [
       "   Year   Deaths  Age-adjusted Death Rate\n",
       "0  1999  1905826                  35592.3\n",
       "1  2000  1902194                  35161.3\n",
       "2  2001  1899358                  34580.3\n",
       "3  2002  1918873                  34429.2\n",
       "4  2003  1912115                  33846.1"
      ]
     },
     "execution_count": 58,
     "metadata": {},
     "output_type": "execute_result"
    }
   ],
   "source": [
    "death_per_year = df.groupby([\"Year\"])[[\"Deaths\",\"Age-adjusted Death Rate\"]].sum().reset_index()\n",
    "death_per_year.head()"
   ]
  },
  {
   "cell_type": "code",
   "execution_count": 70,
   "metadata": {},
   "outputs": [
    {
     "data": {
      "image/png": "[encoded data removed]",
      "text/plain": [
       "<Figure size 640x480 with 1 Axes>"
      ]
     },
     "metadata": {},
     "output_type": "display_data"
    }
   ],
   "source": [
    "plt.plot(death_per_year[\"Year\"].astype(int),death_per_year[\"Deaths\"])\n",
    "plt.show()"
   ]
  },
  {
   "cell_type": "markdown",
   "metadata": {},
   "source": [
    "\n",
    "Which are the 10 states that have the highest number of death in all years?"
   ]
  },
  {
   "cell_type": "code",
   "execution_count": 78,
   "metadata": {},
   "outputs": [
    {
     "data": {
      "text/html": [
       "<div>\n",
       "<style scoped>\n",
       "    .dataframe tbody tr th:only-of-type {\n",
       "        vertical-align: middle;\n",
       "    }\n",
       "\n",
       "    .dataframe tbody tr th {\n",
       "        vertical-align: top;\n",
       "    }\n",
       "\n",
       "    .dataframe thead th {\n",
       "        text-align: right;\n",
       "    }\n",
       "</style>\n",
       "<table border=\"1\" class=\"dataframe\">\n",
       "  <thead>\n",
       "    <tr style=\"text-align: right;\">\n",
       "      <th></th>\n",
       "      <th>State</th>\n",
       "      <th>Year</th>\n",
       "      <th>Deaths</th>\n",
       "      <th>Age-adjusted Death Rate</th>\n",
       "    </tr>\n",
       "  </thead>\n",
       "  <tbody>\n",
       "    <tr>\n",
       "      <th>4</th>\n",
       "      <td>California</td>\n",
       "      <td>381520</td>\n",
       "      <td>3594261</td>\n",
       "      <td>10378.3</td>\n",
       "    </tr>\n",
       "    <tr>\n",
       "      <th>9</th>\n",
       "      <td>Florida</td>\n",
       "      <td>381520</td>\n",
       "      <td>2533472</td>\n",
       "      <td>10434.4</td>\n",
       "    </tr>\n",
       "    <tr>\n",
       "      <th>43</th>\n",
       "      <td>Texas</td>\n",
       "      <td>381520</td>\n",
       "      <td>2367695</td>\n",
       "      <td>11506.8</td>\n",
       "    </tr>\n",
       "    <tr>\n",
       "      <th>32</th>\n",
       "      <td>New York</td>\n",
       "      <td>381520</td>\n",
       "      <td>2264120</td>\n",
       "      <td>10519.1</td>\n",
       "    </tr>\n",
       "    <tr>\n",
       "      <th>38</th>\n",
       "      <td>Pennsylvania</td>\n",
       "      <td>381520</td>\n",
       "      <td>1854953</td>\n",
       "      <td>11643.4</td>\n",
       "    </tr>\n",
       "    <tr>\n",
       "      <th>35</th>\n",
       "      <td>Ohio</td>\n",
       "      <td>381520</td>\n",
       "      <td>1605250</td>\n",
       "      <td>12356.6</td>\n",
       "    </tr>\n",
       "    <tr>\n",
       "      <th>13</th>\n",
       "      <td>Illinois</td>\n",
       "      <td>381520</td>\n",
       "      <td>1508039</td>\n",
       "      <td>11376.9</td>\n",
       "    </tr>\n",
       "    <tr>\n",
       "      <th>22</th>\n",
       "      <td>Michigan</td>\n",
       "      <td>381520</td>\n",
       "      <td>1313813</td>\n",
       "      <td>12061.7</td>\n",
       "    </tr>\n",
       "    <tr>\n",
       "      <th>33</th>\n",
       "      <td>North Carolina</td>\n",
       "      <td>381520</td>\n",
       "      <td>1115953</td>\n",
       "      <td>11976.7</td>\n",
       "    </tr>\n",
       "    <tr>\n",
       "      <th>30</th>\n",
       "      <td>New Jersey</td>\n",
       "      <td>381520</td>\n",
       "      <td>1030622</td>\n",
       "      <td>10573.2</td>\n",
       "    </tr>\n",
       "  </tbody>\n",
       "</table>\n",
       "</div>"
      ],
      "text/plain": [
       "             State    Year   Deaths  Age-adjusted Death Rate\n",
       "4       California  381520  3594261                  10378.3\n",
       "9          Florida  381520  2533472                  10434.4\n",
       "43           Texas  381520  2367695                  11506.8\n",
       "32        New York  381520  2264120                  10519.1\n",
       "38    Pennsylvania  381520  1854953                  11643.4\n",
       "35            Ohio  381520  1605250                  12356.6\n",
       "13        Illinois  381520  1508039                  11376.9\n",
       "22        Michigan  381520  1313813                  12061.7\n",
       "33  North Carolina  381520  1115953                  11976.7\n",
       "30      New Jersey  381520  1030622                  10573.2"
      ]
     },
     "execution_count": 78,
     "metadata": {},
     "output_type": "execute_result"
    }
   ],
   "source": [
    "dStates = df.groupby(\"State\")[[\"Year\",\"Deaths\",\"Age-adjusted Death Rate\"]].sum().reset_index()\n",
    "dStates.sort_values(\"Deaths\",inplace=True,ascending=False)\n",
    "dStates.head(10)"
   ]
  },
  {
   "cell_type": "code",
   "execution_count": 88,
   "metadata": {},
   "outputs": [
    {
     "data": {
      "image/png": "[encoded data removed]",
      "text/plain": [
       "<Figure size 1500x800 with 1 Axes>"
      ]
     },
     "metadata": {},
     "output_type": "display_data"
    }
   ],
   "source": [
    "plt.figure(figsize=(15, 8))\n",
    "plt.bar(dStates[\"State\"].head(10),dStates[\"Deaths\"].head(10))\n",
    "plt.tight_layout()\n"
   ]
  },
  {
   "cell_type": "markdown",
   "metadata": {},
   "source": [
    "What are the top causes of deaths in the United State?"
   ]
  },
  {
   "cell_type": "code",
   "execution_count": 96,
   "metadata": {},
   "outputs": [
    {
     "data": {
      "text/html": [
       "<div>\n",
       "<style scoped>\n",
       "    .dataframe tbody tr th:only-of-type {\n",
       "        vertical-align: middle;\n",
       "    }\n",
       "\n",
       "    .dataframe tbody tr th {\n",
       "        vertical-align: top;\n",
       "    }\n",
       "\n",
       "    .dataframe thead th {\n",
       "        text-align: right;\n",
       "    }\n",
       "</style>\n",
       "<table border=\"1\" class=\"dataframe\">\n",
       "  <thead>\n",
       "    <tr style=\"text-align: right;\">\n",
       "      <th></th>\n",
       "      <th>Deaths</th>\n",
       "      <th>Age-adjusted Death Rate</th>\n",
       "    </tr>\n",
       "    <tr>\n",
       "      <th>Cause Name</th>\n",
       "      <th></th>\n",
       "      <th></th>\n",
       "    </tr>\n",
       "  </thead>\n",
       "  <tbody>\n",
       "    <tr>\n",
       "      <th>Alzheimer's disease</th>\n",
       "      <td>1494816</td>\n",
       "      <td>24256.0</td>\n",
       "    </tr>\n",
       "    <tr>\n",
       "      <th>CLRD</th>\n",
       "      <td>2594927</td>\n",
       "      <td>43253.4</td>\n",
       "    </tr>\n",
       "    <tr>\n",
       "      <th>Cancer</th>\n",
       "      <td>10843644</td>\n",
       "      <td>173078.6</td>\n",
       "    </tr>\n",
       "    <tr>\n",
       "      <th>Diabetes</th>\n",
       "      <td>1399943</td>\n",
       "      <td>22677.4</td>\n",
       "    </tr>\n",
       "    <tr>\n",
       "      <th>Heart disease</th>\n",
       "      <td>12222640</td>\n",
       "      <td>191798.4</td>\n",
       "    </tr>\n",
       "    <tr>\n",
       "      <th>Influenza and pneumonia</th>\n",
       "      <td>1094641</td>\n",
       "      <td>17641.1</td>\n",
       "    </tr>\n",
       "    <tr>\n",
       "      <th>Kidney disease</th>\n",
       "      <td>858613</td>\n",
       "      <td>13633.6</td>\n",
       "    </tr>\n",
       "    <tr>\n",
       "      <th>Stroke</th>\n",
       "      <td>2726523</td>\n",
       "      <td>44476.9</td>\n",
       "    </tr>\n",
       "    <tr>\n",
       "      <th>Suicide</th>\n",
       "      <td>697016</td>\n",
       "      <td>13019.9</td>\n",
       "    </tr>\n",
       "    <tr>\n",
       "      <th>Unintentional injuries</th>\n",
       "      <td>2347820</td>\n",
       "      <td>42139.2</td>\n",
       "    </tr>\n",
       "  </tbody>\n",
       "</table>\n",
       "</div>"
      ],
      "text/plain": [
       "                           Deaths  Age-adjusted Death Rate\n",
       "Cause Name                                                \n",
       "Alzheimer's disease       1494816                  24256.0\n",
       "CLRD                      2594927                  43253.4\n",
       "Cancer                   10843644                 173078.6\n",
       "Diabetes                  1399943                  22677.4\n",
       "Heart disease            12222640                 191798.4\n",
       "Influenza and pneumonia   1094641                  17641.1\n",
       "Kidney disease             858613                  13633.6\n",
       "Stroke                    2726523                  44476.9\n",
       "Suicide                    697016                  13019.9\n",
       "Unintentional injuries    2347820                  42139.2"
      ]
     },
     "execution_count": 96,
     "metadata": {},
     "output_type": "execute_result"
    }
   ],
   "source": [
    "dCauses = df.groupby([\"Cause Name\"])[[\"Deaths\",\"Age-adjusted Death Rate\"]].sum()\n",
    "dCauses"
   ]
  },
  {
   "cell_type": "code",
   "execution_count": 98,
   "metadata": {},
   "outputs": [
    {
     "data": {
      "text/plain": [
       "<Axes: title={'center': 'Main 10 causes of Death in USA since 1999'}, xlabel='Cause Name'>"
      ]
     },
     "execution_count": 98,
     "metadata": {},
     "output_type": "execute_result"
    },
    {
     "data": {
      "image/png": "[encoded data removed]",
      "text/plain": [
       "<Figure size 640x480 with 1 Axes>"
      ]
     },
     "metadata": {},
     "output_type": "display_data"
    }
   ],
   "source": [
    "dCauses[\"Deaths\"].plot.bar(title=\"Main 10 causes of Death in USA since 1999\")"
   ]
  },
  {
   "cell_type": "markdown",
   "metadata": {},
   "source": [
    "\n",
    "\n",
    "The top 3 causes of deaths in the\n",
    "United States during this period are heart diseases, cancer, and strokes. \n",
    "\n",
    "\n",
    "However, these states have the highest population. Using the ratio of deaths per\n",
    "population will give a better comparison"
   ]
  }
 ],
 "metadata": {
  "kernelspec": {
   "display_name": "base",
   "language": "python",
   "name": "python3"
  },
  "language_info": {
   "codemirror_mode": {
    "name": "ipython",
    "version": 3
   },
   "file_extension": ".py",
   "mimetype": "text/x-python",
   "name": "python",
   "nbconvert_exporter": "python",
   "pygments_lexer": "ipython3",
   "version": "3.11.7"
  }
 },
 "nbformat": 4,
 "nbformat_minor": 2
}
